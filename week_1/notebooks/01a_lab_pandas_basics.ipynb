{
 "cells": [
  {
   "cell_type": "markdown",
   "id": "0084ac83",
   "metadata": {},
   "source": [
    "# **AI TECH INSTITUTE** · *Intermediate AI & Data Science*\n",
    "### Week 01 · Lab 01A — Pandas Basics\n",
    "**Instructor:** Amir Charkhi  |  **Duration:** 45 minutes  |  **Difficulty:** ⭐⭐☆☆☆\n",
    "\n",
    "> **Goal:** Master Series and basic DataFrame operations through hands-on exercises.\n"
   ]
  },
  {
   "cell_type": "markdown",
   "id": "09ab385f",
   "metadata": {},
   "source": [
    "## Learning Objectives\n",
    "- Create and manipulate pandas Series\n",
    "- Build DataFrames from various sources\n",
    "- Perform basic selections and filtering\n",
    "- Apply simple transformations"
   ]
  },
  {
   "cell_type": "markdown",
   "id": "47ed1ac6",
   "metadata": {},
   "source": [
    "## Setup\n",
    "Run this cell first to import libraries and set up your environment."
   ]
  },
  {
   "cell_type": "code",
   "execution_count": null,
   "id": "6a16aadc",
   "metadata": {},
   "outputs": [],
   "source": [
    "import pandas as pd\n",
    "import numpy as np\n",
    "\n",
    "# Display settings\n",
    "pd.set_option('display.max_rows', 10)\n",
    "pd.set_option('display.max_columns', None)\n",
    "\n",
    "print(\"🐼 Pandas version:\", pd.__version__)\n",
    "print(\"Ready to start!\")"
   ]
  },
  {
   "cell_type": "markdown",
   "id": "ed8ecef6",
   "metadata": {},
   "source": [
    "## Part 1: Series Fundamentals (15 minutes)\n",
    "Series are the building blocks of pandas - like enhanced Python lists."
   ]
  },
  {
   "cell_type": "markdown",
   "id": "9d9b16f5",
   "metadata": {},
   "source": [
    "### Exercise 1.1 — Temperature Tracker (easy)\n",
    "Create a Series of daily temperatures for a week and perform basic analysis."
   ]
  },
  {
   "cell_type": "code",
   "execution_count": null,
   "id": "de95fc13",
   "metadata": {},
   "outputs": [],
   "source": [
    "# TODO: Create a Series with these temperatures: [22.5, 23.1, 21.8, 24.2, 22.9, 25.5, 20.3]\n",
    "# Use days of the week as the index\n",
    "# Your code here:\n",
    "\n",
    "\n",
    "# TODO: Find and print:\n",
    "# 1. The hottest day and temperature\n",
    "# 2. Days above 23 degrees\n",
    "# 3. Average temperature for the week\n",
    "# Your code here:\n"
   ]
  },
  {
   "cell_type": "markdown",
   "id": "3ab97775",
   "metadata": {},
   "source": [
    "<details>\n",
    "<summary><b>Hint</b></summary>\n",
    "\n",
    "- Use `pd.Series(data, index=labels)` to create the Series\n",
    "- `.idxmax()` returns the index of the maximum value\n",
    "- Boolean indexing: `series[series > value]`\n",
    "</details>"
   ]
  },
  {
   "cell_type": "markdown",
   "id": "1936fd22",
   "metadata": {},
   "source": [
    "### Exercise 1.2 — Stock Portfolio (medium)\n",
    "Track stock prices and calculate portfolio value."
   ]
  },
  {
   "cell_type": "code",
   "execution_count": null,
   "id": "4ef71b9c",
   "metadata": {},
   "outputs": [],
   "source": [
    "# Given data\n",
    "stocks = {'AAPL': 175.50, 'GOOGL': 142.80, 'MSFT': 405.20, 'AMZN': 178.35}\n",
    "shares = {'AAPL': 50, 'GOOGL': 30, 'MSFT': 40, 'AMZN': 25}\n",
    "\n",
    "# TODO: Create Series for stocks and shares\n",
    "# Your code here:\n",
    "\n",
    "\n",
    "# TODO: Calculate:\n",
    "# 1. Portfolio value for each stock (price * shares)\n",
    "# 2. Total portfolio value\n",
    "# 3. Percentage allocation of each stock\n",
    "# Your code here:\n"
   ]
  },
  {
   "cell_type": "markdown",
   "id": "1c380357",
   "metadata": {},
   "source": [
    "### Exercise 1.3 — Sales Growth Analysis (medium)\n",
    "Analyze month-over-month sales growth."
   ]
  },
  {
   "cell_type": "code",
   "execution_count": null,
   "id": "e2c66958",
   "metadata": {},
   "outputs": [],
   "source": [
    "# Monthly sales data\n",
    "months = ['Jan', 'Feb', 'Mar', 'Apr', 'May', 'Jun']\n",
    "sales = [45000, 48000, 52000, 49000, 55000, 58000]\n",
    "\n",
    "# TODO: Create a Series and calculate:\n",
    "# 1. Month-over-month growth rate (percentage)\n",
    "# 2. Best and worst growth months\n",
    "# 3. Average monthly growth rate\n",
    "# Your code here:\n"
   ]
  },
  {
   "cell_type": "markdown",
   "id": "90bc80cd",
   "metadata": {},
   "source": [
    "## Part 2: DataFrame Creation & Basic Operations (15 minutes)"
   ]
  },
  {
   "cell_type": "markdown",
   "id": "8bb01191",
   "metadata": {},
   "source": [
    "### Exercise 2.1 — Student Records (easy)\n",
    "Create and explore a student database."
   ]
  },
  {
   "cell_type": "code",
   "execution_count": null,
   "id": "71f6f321",
   "metadata": {},
   "outputs": [],
   "source": [
    "# Student data\n",
    "data = {\n",
    "    'name': ['Alice', 'Bob', 'Charlie', 'Diana', 'Eve'],\n",
    "    'age': [22, 24, 23, 22, 25],\n",
    "    'major': ['CS', 'Math', 'CS', 'Physics', 'Math'],\n",
    "    'gpa': [3.8, 3.5, 3.9, 3.7, 3.6],\n",
    "    'credits': [120, 115, 125, 118, 122]\n",
    "}\n",
    "\n",
    "# TODO: Create DataFrame and:\n",
    "# 1. Display first 3 rows\n",
    "# 2. Show DataFrame info and basic statistics\n",
    "# 3. Select only name and gpa columns\n",
    "# Your code here:\n"
   ]
  },
  {
   "cell_type": "markdown",
   "id": "9b113c8e",
   "metadata": {},
   "source": [
    "### Exercise 2.2 — Product Inventory (medium)\n",
    "Manage an electronics store inventory."
   ]
  },
  {
   "cell_type": "code",
   "execution_count": null,
   "id": "4be97d0a",
   "metadata": {},
   "outputs": [],
   "source": [
    "# Create inventory DataFrame from lists\n",
    "products = ['Laptop', 'Mouse', 'Keyboard', 'Monitor', 'Webcam', 'Headphones']\n",
    "prices = [1200, 25, 80, 350, 120, 150]\n",
    "stock = [15, 102, 45, 28, 33, 67]\n",
    "categories = ['Computer', 'Accessory', 'Accessory', 'Computer', 'Accessory', 'Accessory']\n",
    "\n",
    "# TODO: Create DataFrame with these columns\n",
    "# Your code here:\n",
    "\n",
    "\n",
    "# TODO: Add new columns:\n",
    "# 1. 'inventory_value' = price * stock\n",
    "# 2. 'needs_reorder' = True if stock < 30\n",
    "# 3. 'price_category' = 'Budget' (<100), 'Mid' (100-500), 'Premium' (>500)\n",
    "# Your code here:\n"
   ]
  },
  {
   "cell_type": "markdown",
   "id": "c5eae2dd",
   "metadata": {},
   "source": [
    "### Exercise 2.3 — Data Filtering Challenge (medium)\n",
    "Practice DataFrame filtering with multiple conditions."
   ]
  },
  {
   "cell_type": "code",
   "execution_count": null,
   "id": "50ac5807",
   "metadata": {},
   "outputs": [],
   "source": [
    "# Create sales data\n",
    "np.random.seed(42)\n",
    "sales_data = pd.DataFrame({\n",
    "    'date': pd.date_range('2025-08-01', periods=20),\n",
    "    'product': np.random.choice(['A', 'B', 'C'], 20),\n",
    "    'quantity': np.random.randint(1, 20, 20),\n",
    "    'price': np.random.uniform(10, 100, 20).round(2),\n",
    "    'customer_type': np.random.choice(['Regular', 'VIP'], 20)\n",
    "})\n",
    "\n",
    "# TODO: Find:\n",
    "# 1. All VIP customer purchases\n",
    "# 2. Product A sales with quantity > 10\n",
    "# 3. Sales between Aug 5-10 with price > 50\n",
    "# Your code here:\n"
   ]
  },
  {
   "cell_type": "markdown",
   "id": "337a17f5",
   "metadata": {},
   "source": [
    "## Part 3: Data Selection & Indexing (15 minutes)"
   ]
  },
  {
   "cell_type": "markdown",
   "id": "9386db74",
   "metadata": {},
   "source": [
    "### Exercise 3.1 — loc vs iloc Practice (medium)\n",
    "Master the difference between label and position-based selection."
   ]
  },
  {
   "cell_type": "code",
   "execution_count": null,
   "id": "3fbfe00f",
   "metadata": {},
   "outputs": [],
   "source": [
    "# Create sample DataFrame\n",
    "df = pd.DataFrame({\n",
    "    'A': [1, 4, 7, 10, 13],\n",
    "    'B': [2, 5, 8, 11, 14],\n",
    "    'C': [3, 6, 9, 12, 15]\n",
    "}, index=['row1', 'row2', 'row3', 'row4', 'row5'])\n",
    "\n",
    "print(\"Original DataFrame:\")\n",
    "print(df)\n",
    "print()\n",
    "\n",
    "# TODO: Use loc to:\n",
    "# 1. Select row2 to row4, columns A and C\n",
    "# 2. Select all rows where column B > 8\n",
    "# Your code here:\n",
    "\n",
    "\n",
    "# TODO: Use iloc to:\n",
    "# 1. Select first 3 rows and last 2 columns\n",
    "# 2. Select every other row\n",
    "# Your code here:\n"
   ]
  },
  {
   "cell_type": "markdown",
   "id": "2e5a6ceb",
   "metadata": {},
   "source": [
    "### Exercise 3.2 — Customer Segmentation (hard)\n",
    "Segment customers based on purchase behavior."
   ]
  },
  {
   "cell_type": "code",
   "execution_count": null,
   "id": "8f9bf6eb",
   "metadata": {},
   "outputs": [],
   "source": [
    "# Generate customer data\n",
    "np.random.seed(100)\n",
    "customers = pd.DataFrame({\n",
    "    'customer_id': range(1, 51),\n",
    "    'total_purchases': np.random.randint(1, 50, 50),\n",
    "    'total_spent': np.random.uniform(100, 5000, 50).round(2),\n",
    "    'days_since_last_purchase': np.random.randint(1, 180, 50)\n",
    "})\n",
    "\n",
    "# TODO: Create customer segments:\n",
    "# 1. Add 'avg_order_value' column\n",
    "# 2. Add 'segment' column based on:\n",
    "#    - 'Champions': total_spent > 3000 AND days_since_last_purchase < 30\n",
    "#    - 'Loyal': total_purchases > 20 AND days_since_last_purchase < 60\n",
    "#    - 'At Risk': days_since_last_purchase > 90\n",
    "#    - 'Regular': all others\n",
    "# 3. Count customers in each segment\n",
    "# Your code here:\n"
   ]
  },
  {
   "cell_type": "markdown",
   "id": "f6fa37f5",
   "metadata": {},
   "source": [
    "## Part 4: Challenge Problems (15 minutes)"
   ]
  },
  {
   "cell_type": "markdown",
   "id": "551f0e57",
   "metadata": {},
   "source": [
    "### Challenge 1 — Missing Data Handler (hard)\n",
    "Clean and impute missing values intelligently."
   ]
  },
  {
   "cell_type": "code",
   "execution_count": null,
   "id": "4408f617",
   "metadata": {},
   "outputs": [],
   "source": [
    "# Create data with missing values\n",
    "messy_data = pd.DataFrame({\n",
    "    'product': ['A', 'B', 'C', 'D', 'E', 'F'],\n",
    "    'price': [100, None, 150, 200, None, 180],\n",
    "    'stock': [50, 30, None, 45, 60, None],\n",
    "    'category': ['Electronics', 'Electronics', None, 'Clothing', 'Clothing', 'Electronics'],\n",
    "    'rating': [4.5, 4.2, None, 3.8, 4.6, None]\n",
    "})\n",
    "\n",
    "print(\"Messy data:\")\n",
    "print(messy_data)\n",
    "print()\n",
    "\n",
    "# TODO: Clean the data:\n",
    "# 1. Fill missing prices with category average\n",
    "# 2. Fill missing stock with median stock\n",
    "# 3. Fill missing categories by looking at similar price ranges\n",
    "# 4. Fill missing ratings with overall average\n",
    "# 5. Create a report showing what was fixed\n",
    "# Your code here:\n"
   ]
  },
  {
   "cell_type": "markdown",
   "id": "b26f9b89",
   "metadata": {},
   "source": [
    "### Challenge 2 — Time Series Basics (hard)\n",
    "Analyze daily sales patterns."
   ]
  },
  {
   "cell_type": "code",
   "execution_count": null,
   "id": "1e55e3cf",
   "metadata": {},
   "outputs": [],
   "source": [
    "# Generate time series data\n",
    "dates = pd.date_range('2025-07-01', periods=30)\n",
    "daily_sales = pd.DataFrame({\n",
    "    'date': dates,\n",
    "    'sales': np.random.randint(1000, 5000, 30) + \n",
    "             np.sin(np.arange(30) * 2 * np.pi / 7) * 500  # Weekly pattern\n",
    "})\n",
    "\n",
    "# TODO: Analyze the time series:\n",
    "# 1. Add day_of_week column\n",
    "# 2. Calculate 7-day rolling average\n",
    "# 3. Find best and worst days of the week\n",
    "# 4. Calculate week-over-week growth\n",
    "# Your code here:\n"
   ]
  },
  {
   "cell_type": "markdown",
   "id": "47769abf",
   "metadata": {},
   "source": [
    "### Challenge 3 — Data Aggregation Pipeline (hard)\n",
    "Build a complete analysis pipeline."
   ]
  },
  {
   "cell_type": "code",
   "execution_count": null,
   "id": "86cc26e1",
   "metadata": {},
   "outputs": [],
   "source": [
    "# E-commerce transaction data\n",
    "np.random.seed(42)\n",
    "transactions = pd.DataFrame({\n",
    "    'transaction_id': range(1, 101),\n",
    "    'customer_id': np.random.randint(1, 21, 100),\n",
    "    'product': np.random.choice(['Laptop', 'Phone', 'Tablet', 'Watch'], 100),\n",
    "    'amount': np.random.uniform(100, 2000, 100).round(2),\n",
    "    'date': pd.date_range('2025-08-01', periods=100, freq='h')\n",
    "})\n",
    "\n",
    "# TODO: Create a comprehensive analysis:\n",
    "# 1. Calculate total revenue by product\n",
    "# 2. Find top 5 customers by total spending\n",
    "# 3. Identify peak shopping hours\n",
    "# 4. Calculate customer metrics: total spent, avg transaction, transaction count\n",
    "# 5. Create a summary report DataFrame\n",
    "# Your code here:\n"
   ]
  },
  {
   "cell_type": "markdown",
   "id": "8e83438c",
   "metadata": {},
   "source": [
    "## 🎯 Bonus Challenge: Real-World Mini Project\n",
    "Combine everything you've learned!"
   ]
  },
  {
   "cell_type": "code",
   "execution_count": null,
   "id": "04b9cbdf",
   "metadata": {},
   "outputs": [],
   "source": [
    "# Restaurant order analysis\n",
    "# You're analyzing data for a restaurant chain\n",
    "\n",
    "# Generate realistic restaurant data\n",
    "np.random.seed(123)\n",
    "menu_items = ['Burger', 'Pizza', 'Salad', 'Pasta', 'Steak', 'Fish', 'Soup', 'Dessert']\n",
    "locations = ['Downtown', 'Mall', 'Airport', 'Suburb']\n",
    "\n",
    "orders = pd.DataFrame({\n",
    "    'order_id': range(1, 201),\n",
    "    'location': np.random.choice(locations, 200, p=[0.3, 0.25, 0.2, 0.25]),\n",
    "    'item': np.random.choice(menu_items, 200),\n",
    "    'quantity': np.random.randint(1, 5, 200),\n",
    "    'price': np.random.uniform(8, 45, 200).round(2),\n",
    "    'day_of_week': np.random.choice(['Mon', 'Tue', 'Wed', 'Thu', 'Fri', 'Sat', 'Sun'], 200),\n",
    "    'meal_type': np.random.choice(['Breakfast', 'Lunch', 'Dinner'], 200, p=[0.2, 0.35, 0.45])\n",
    "})\n",
    "\n",
    "# TODO: Complete analysis to answer these business questions:\n",
    "# 1. Which location has the highest average order value?\n",
    "# 2. What's the most popular item at each location?\n",
    "# 3. Which meal type generates the most revenue?\n",
    "# 4. What's the busiest day of the week?\n",
    "# 5. Create a location performance summary with key metrics\n",
    "# Your code here:\n"
   ]
  },
  {
   "cell_type": "markdown",
   "id": "9bc427af",
   "metadata": {},
   "source": [
    "## 📊 Lab Summary Checklist\n",
    "Before submitting, ensure you've completed:\n",
    "\n",
    "- [ ] All Series exercises (1.1 - 1.3)\n",
    "- [ ] DataFrame creation and operations (2.1 - 2.3)\n",
    "- [ ] Selection and indexing practice (3.1 - 3.2)\n",
    "- [ ] At least 2 challenge problems\n",
    "- [ ] Bonus challenge (optional)\n",
    "\n",
    "**Self-Assessment:**\n",
    "- I can create and manipulate Series ✅\n",
    "- I can build DataFrames from various sources ✅\n",
    "- I understand loc vs iloc selection ✅\n",
    "- I can filter data with multiple conditions ✅\n",
    "- I can add and modify columns ✅"
   ]
  },
  {
   "cell_type": "markdown",
   "id": "85d6cd36",
   "metadata": {},
   "source": [
    "## 🚀 What's Next?\n",
    "**Lab 01B:** Data wrangling with groupby, merge, and pivot operations!"
   ]
  }
 ],
 "metadata": {
  "kernelspec": {
   "display_name": "Python 3 (ipykernel)",
   "language": "python",
   "name": "python3"
  },
  "language_info": {
   "codemirror_mode": {
    "name": "ipython",
    "version": 3
   },
   "file_extension": ".py",
   "mimetype": "text/x-python",
   "name": "python",
   "nbconvert_exporter": "python",
   "pygments_lexer": "ipython3",
   "version": "3.13.1"
  }
 },
 "nbformat": 4,
 "nbformat_minor": 5
}
